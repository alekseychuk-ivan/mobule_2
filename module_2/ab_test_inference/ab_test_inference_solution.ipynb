{
 "cells": [
  {
   "cell_type": "code",
   "execution_count": 1,
   "metadata": {
    "pycharm": {
     "name": "#%%\n"
    }
   },
   "outputs": [],
   "source": [
    "# import lib\n",
    "import numpy as np\n",
    "import pandas as pd\n",
    "import scipy.stats as stats\n",
    "import statsmodels.stats.api as sms\n",
    "import matplotlib as mpl\n",
    "import matplotlib.pyplot as plt\n",
    "import seaborn as sns\n",
    "from math import ceil\n",
    "from statsmodels.stats.proportion import proportions_ztest, proportion_confint\n",
    "\n",
    "# Setting figure\n",
    "%matplotlib inline\n",
    "# figure style\n",
    "plt.style.use('seaborn-whitegrid')\n",
    "font = {'family' : 'Helvetica',\n",
    "        'weight' : 'bold',\n",
    "        'size'   : 14}\n",
    "mpl.rc('font', **font)"
   ]
  },
  {
   "cell_type": "code",
   "execution_count": 2,
   "metadata": {},
   "outputs": [],
   "source": [
    "#We’ll also set a confidence level of 95% alpha = 1 - conf_level/100\n",
    "alpha = 0.05\n",
    "power = 0.8\n",
    "\n",
    "cr_control = 0.12 #conversation rate control group hypothesis H0\n",
    "cr_test = 0.14 #conversation rate treatment group hypothesis H1"
   ]
  },
  {
   "cell_type": "code",
   "execution_count": 3,
   "metadata": {},
   "outputs": [
    {
     "data": {
      "text/html": [
       "<div>\n",
       "<style scoped>\n",
       "    .dataframe tbody tr th:only-of-type {\n",
       "        vertical-align: middle;\n",
       "    }\n",
       "\n",
       "    .dataframe tbody tr th {\n",
       "        vertical-align: top;\n",
       "    }\n",
       "\n",
       "    .dataframe thead th {\n",
       "        text-align: right;\n",
       "    }\n",
       "</style>\n",
       "<table border=\"1\" class=\"dataframe\">\n",
       "  <thead>\n",
       "    <tr style=\"text-align: right;\">\n",
       "      <th></th>\n",
       "      <th>user_id</th>\n",
       "      <th>timestamp</th>\n",
       "      <th>group</th>\n",
       "      <th>variants</th>\n",
       "      <th>converted</th>\n",
       "      <th>location</th>\n",
       "      <th>age_group</th>\n",
       "      <th>user_type</th>\n",
       "    </tr>\n",
       "  </thead>\n",
       "  <tbody>\n",
       "    <tr>\n",
       "      <th>0</th>\n",
       "      <td>9109b0dc-d393-497f-8d63-ba9a25dd16b4</td>\n",
       "      <td>2022-05-21 22:11:48.556739</td>\n",
       "      <td>control</td>\n",
       "      <td>standard</td>\n",
       "      <td>0</td>\n",
       "      <td>United Kingdom</td>\n",
       "      <td>18-25</td>\n",
       "      <td>registered_user</td>\n",
       "    </tr>\n",
       "    <tr>\n",
       "      <th>1</th>\n",
       "      <td>2430c3d2-f75b-4b31-8271-51b6a76c2652</td>\n",
       "      <td>2022-05-12 08:01:45.159739</td>\n",
       "      <td>control</td>\n",
       "      <td>standard</td>\n",
       "      <td>0</td>\n",
       "      <td>United Kingdom</td>\n",
       "      <td>42-49</td>\n",
       "      <td>registered_user</td>\n",
       "    </tr>\n",
       "    <tr>\n",
       "      <th>2</th>\n",
       "      <td>44788c4e-8dd2-4fad-b986-75e76f4adb64</td>\n",
       "      <td>2022-05-11 16:55:06.154213</td>\n",
       "      <td>treatment</td>\n",
       "      <td>svm_ensemble_v_1_22</td>\n",
       "      <td>0</td>\n",
       "      <td>United Kingdom</td>\n",
       "      <td>26-33</td>\n",
       "      <td>new_user</td>\n",
       "    </tr>\n",
       "    <tr>\n",
       "      <th>3</th>\n",
       "      <td>4699a417-506d-41b8-a354-6af6ad576963</td>\n",
       "      <td>2022-05-08 18:28:03.143765</td>\n",
       "      <td>treatment</td>\n",
       "      <td>svm_ensemble_v_1_22</td>\n",
       "      <td>0</td>\n",
       "      <td>United Kingdom</td>\n",
       "      <td>42-49</td>\n",
       "      <td>registered_user</td>\n",
       "    </tr>\n",
       "    <tr>\n",
       "      <th>4</th>\n",
       "      <td>304b0d28-bcdf-401a-9dff-66230d3ba0bc</td>\n",
       "      <td>2022-05-21 01:52:26.210827</td>\n",
       "      <td>control</td>\n",
       "      <td>standard</td>\n",
       "      <td>1</td>\n",
       "      <td>United Kingdom</td>\n",
       "      <td>42-49</td>\n",
       "      <td>registered_user</td>\n",
       "    </tr>\n",
       "  </tbody>\n",
       "</table>\n",
       "</div>"
      ],
      "text/plain": [
       "                                user_id                   timestamp  \\\n",
       "0  9109b0dc-d393-497f-8d63-ba9a25dd16b4  2022-05-21 22:11:48.556739   \n",
       "1  2430c3d2-f75b-4b31-8271-51b6a76c2652  2022-05-12 08:01:45.159739   \n",
       "2  44788c4e-8dd2-4fad-b986-75e76f4adb64  2022-05-11 16:55:06.154213   \n",
       "3  4699a417-506d-41b8-a354-6af6ad576963  2022-05-08 18:28:03.143765   \n",
       "4  304b0d28-bcdf-401a-9dff-66230d3ba0bc  2022-05-21 01:52:26.210827   \n",
       "\n",
       "       group             variants  converted        location age_group  \\\n",
       "0    control             standard          0  United Kingdom     18-25   \n",
       "1    control             standard          0  United Kingdom     42-49   \n",
       "2  treatment  svm_ensemble_v_1_22          0  United Kingdom     26-33   \n",
       "3  treatment  svm_ensemble_v_1_22          0  United Kingdom     42-49   \n",
       "4    control             standard          1  United Kingdom     42-49   \n",
       "\n",
       "         user_type  \n",
       "0  registered_user  \n",
       "1  registered_user  \n",
       "2         new_user  \n",
       "3  registered_user  \n",
       "4  registered_user  "
      ]
     },
     "execution_count": 3,
     "metadata": {},
     "output_type": "execute_result"
    }
   ],
   "source": [
    "# read data\n",
    "df = pd.read_csv('ab_test_ensembles.zip')\n",
    "df.head()"
   ]
  },
  {
   "cell_type": "code",
   "execution_count": 4,
   "metadata": {},
   "outputs": [
    {
     "name": "stdout",
     "output_type": "stream",
     "text": [
      "<class 'pandas.core.frame.DataFrame'>\n",
      "RangeIndex: 294478 entries, 0 to 294477\n",
      "Data columns (total 8 columns):\n",
      " #   Column     Non-Null Count   Dtype \n",
      "---  ------     --------------   ----- \n",
      " 0   user_id    294478 non-null  object\n",
      " 1   timestamp  294478 non-null  object\n",
      " 2   group      294478 non-null  object\n",
      " 3   variants   294478 non-null  object\n",
      " 4   converted  294478 non-null  int64 \n",
      " 5   location   294478 non-null  object\n",
      " 6   age_group  294478 non-null  object\n",
      " 7   user_type  294478 non-null  object\n",
      "dtypes: int64(1), object(7)\n",
      "memory usage: 18.0+ MB\n"
     ]
    }
   ],
   "source": [
    "df.info()"
   ]
  },
  {
   "cell_type": "markdown",
   "metadata": {},
   "source": [
    "# 1. check hypothesis about increase conversation rate for new variants\n",
    "H0 = standart better\n",
    "H1 = new variant better"
   ]
  },
  {
   "cell_type": "code",
   "execution_count": 5,
   "metadata": {},
   "outputs": [
    {
     "data": {
      "text/html": [
       "<div>\n",
       "<style scoped>\n",
       "    .dataframe tbody tr th:only-of-type {\n",
       "        vertical-align: middle;\n",
       "    }\n",
       "\n",
       "    .dataframe tbody tr th {\n",
       "        vertical-align: top;\n",
       "    }\n",
       "\n",
       "    .dataframe thead th {\n",
       "        text-align: right;\n",
       "    }\n",
       "</style>\n",
       "<table border=\"1\" class=\"dataframe\">\n",
       "  <thead>\n",
       "    <tr style=\"text-align: right;\">\n",
       "      <th>variants</th>\n",
       "      <th>standard</th>\n",
       "      <th>svm_ensemble_v_1_22</th>\n",
       "    </tr>\n",
       "    <tr>\n",
       "      <th>group</th>\n",
       "      <th></th>\n",
       "      <th></th>\n",
       "    </tr>\n",
       "  </thead>\n",
       "  <tbody>\n",
       "    <tr>\n",
       "      <th>control</th>\n",
       "      <td>145274</td>\n",
       "      <td>1928</td>\n",
       "    </tr>\n",
       "    <tr>\n",
       "      <th>treatment</th>\n",
       "      <td>1965</td>\n",
       "      <td>145311</td>\n",
       "    </tr>\n",
       "  </tbody>\n",
       "</table>\n",
       "</div>"
      ],
      "text/plain": [
       "variants   standard  svm_ensemble_v_1_22\n",
       "group                                   \n",
       "control      145274                 1928\n",
       "treatment      1965               145311"
      ]
     },
     "execution_count": 5,
     "metadata": {},
     "output_type": "execute_result"
    }
   ],
   "source": [
    "# To make sure the control and theatment group are seeing the standard and new variants\n",
    "pd.crosstab(df['group'], df['variants'])"
   ]
  },
  {
   "cell_type": "code",
   "execution_count": 6,
   "metadata": {},
   "outputs": [
    {
     "data": {
      "text/plain": [
       "standard               147239\n",
       "svm_ensemble_v_1_22    147239\n",
       "Name: variants, dtype: int64"
      ]
     },
     "execution_count": 6,
     "metadata": {},
     "output_type": "execute_result"
    }
   ],
   "source": [
    "# group distribution\n",
    "df.variants.value_counts(normalize=False)"
   ]
  },
  {
   "cell_type": "code",
   "execution_count": 7,
   "metadata": {},
   "outputs": [
    {
     "data": {
      "text/plain": [
       "0.1203863045004612"
      ]
     },
     "execution_count": 7,
     "metadata": {},
     "output_type": "execute_result"
    }
   ],
   "source": [
    "# conversation rate for control group\n",
    "cr_st = df[(df.group == 'control') & (df.variants == 'standard')].converted.mean()\n",
    "cr_st"
   ]
  },
  {
   "cell_type": "code",
   "execution_count": 8,
   "metadata": {},
   "outputs": [
    {
     "data": {
      "text/plain": [
       "0.12047759085568362"
      ]
     },
     "execution_count": 8,
     "metadata": {},
     "output_type": "execute_result"
    }
   ],
   "source": [
    "df[(df.variants == 'standard')].converted.mean()"
   ]
  },
  {
   "cell_type": "markdown",
   "metadata": {},
   "source": [
    "* Difference between two case control group very small"
   ]
  },
  {
   "cell_type": "code",
   "execution_count": 9,
   "metadata": {},
   "outputs": [
    {
     "data": {
      "text/plain": [
       "0.11880724790277405"
      ]
     },
     "execution_count": 9,
     "metadata": {},
     "output_type": "execute_result"
    }
   ],
   "source": [
    "# conversation rate for treatment group\n",
    "cr_t = df[(df.group == 'treatment') & (df.variants == 'svm_ensemble_v_1_22')].converted.mean()\n",
    "cr_t"
   ]
  },
  {
   "cell_type": "code",
   "execution_count": 10,
   "metadata": {},
   "outputs": [
    {
     "data": {
      "text/plain": [
       "0.11884079625642663"
      ]
     },
     "execution_count": 10,
     "metadata": {},
     "output_type": "execute_result"
    }
   ],
   "source": [
    "df[(df.variants == 'svm_ensemble_v_1_22')].converted.mean()"
   ]
  },
  {
   "cell_type": "markdown",
   "metadata": {},
   "source": [
    "* Difference between two case treathment group very small at first sight no difference. \n",
    "* How we can see conversation rate between control and treatment group small."
   ]
  },
  {
   "cell_type": "code",
   "execution_count": 11,
   "metadata": {
    "scrolled": true
   },
   "outputs": [
    {
     "name": "stderr",
     "output_type": "stream",
     "text": [
      "findfont: Font family ['Helvetica'] not found. Falling back to DejaVu Sans.\n",
      "findfont: Font family ['Helvetica'] not found. Falling back to DejaVu Sans.\n",
      "findfont: Font family ['Helvetica'] not found. Falling back to DejaVu Sans.\n"
     ]
    },
    {
     "data": {
      "image/png": "[encoded data removed]",
      "text/plain": [
       "<Figure size 576x432 with 1 Axes>"
      ]
     },
     "metadata": {},
     "output_type": "display_data"
    }
   ],
   "source": [
    "plt.figure(figsize=(8,6));\n",
    "sns.barplot(x='group', y='converted', data=df, ci=False);\n",
    "\n",
    "plt.ylim(0, 0.15);\n",
    "plt.title('Conversion rate by experimental samples', pad=20)\n",
    "plt.xlabel('Group', labelpad=15);\n",
    "plt.ylabel('Converted (proportion)', labelpad=15);"
   ]
  },
  {
   "cell_type": "code",
   "execution_count": 12,
   "metadata": {},
   "outputs": [
    {
     "name": "stdout",
     "output_type": "stream",
     "text": [
      "There are 0 users that appear multiple times in the dataset\n"
     ]
    }
   ],
   "source": [
    "sessions = df['user_id'].value_counts(ascending=False)\n",
    "duplicate_users = sessions[sessions > 1].count()\n",
    "print(f'There are {duplicate_users} users that appear multiple times in the dataset')"
   ]
  },
  {
   "cell_type": "code",
   "execution_count": 13,
   "metadata": {},
   "outputs": [
    {
     "name": "stdout",
     "output_type": "stream",
     "text": [
      "4433\n"
     ]
    }
   ],
   "source": [
    "effect_size = sms.proportion_effectsize(cr_control, cr_test)    # Calculating effect size based on our expected rates\n",
    "\n",
    "required_n = sms.NormalIndPower().solve_power(\n",
    "    effect_size, \n",
    "    power=power, \n",
    "    alpha=alpha, \n",
    "    ratio=1\n",
    "    )                                                  # Calculating sample size needed\n",
    "\n",
    "required_n = ceil(required_n)                          # Rounding up to next whole number                          \n",
    "\n",
    "print(required_n)"
   ]
  },
  {
   "cell_type": "markdown",
   "metadata": {},
   "source": [
    "* Our data frame more then need, we try check out hypothesis"
   ]
  },
  {
   "cell_type": "code",
   "execution_count": 14,
   "metadata": {},
   "outputs": [
    {
     "name": "stdout",
     "output_type": "stream",
     "text": [
      "Z-statistic: 1.31\n",
      "p-value: 0.190\n",
      "CI 95% for control group: [0.119, 0.122]\n",
      "CI 95% for treatment group: [0.117, 0.120]\n"
     ]
    }
   ],
   "source": [
    "\n",
    "control_results = df[(df.group == 'control') & (df.variants == 'standard')].converted\n",
    "treatment_results = df[(df.group == 'treatment') & (df.variants == 'svm_ensemble_v_1_22')].converted\n",
    "\n",
    "n_con = control_results.count()\n",
    "n_treat = treatment_results.count()\n",
    "successes = [control_results.sum(), treatment_results.sum()]\n",
    "nobs = [n_con, n_treat]\n",
    "\n",
    "z_stat, pval = proportions_ztest(successes, nobs=nobs)\n",
    "(lower_con, lower_treat), (upper_con, upper_treat) = proportion_confint(successes, nobs=nobs, alpha=alpha)\n",
    "\n",
    "print(f'Z-statistic: {z_stat:.2f}')\n",
    "print(f'p-value: {pval:.3f}')\n",
    "print(f'CI 95% for control group: [{lower_con:.3f}, {upper_con:.3f}]')\n",
    "print(f'CI 95% for treatment group: [{lower_treat:.3f}, {upper_treat:.3f}]')\n"
   ]
  },
  {
   "cell_type": "markdown",
   "metadata": {},
   "source": [
    "* Since our p-value=0.19 is way above our α=0.05 threshold, we cannot reject the Null hypothesis Hₒ, which means that our new design did not perform significantly different (let alone better) than our old one "
   ]
  },
  {
   "cell_type": "markdown",
   "metadata": {},
   "source": [
    "# 2a. Check hypothesis for registered users"
   ]
  },
  {
   "cell_type": "code",
   "execution_count": 15,
   "metadata": {},
   "outputs": [
    {
     "data": {
      "text/html": [
       "<div>\n",
       "<style scoped>\n",
       "    .dataframe tbody tr th:only-of-type {\n",
       "        vertical-align: middle;\n",
       "    }\n",
       "\n",
       "    .dataframe tbody tr th {\n",
       "        vertical-align: top;\n",
       "    }\n",
       "\n",
       "    .dataframe thead tr th {\n",
       "        text-align: left;\n",
       "    }\n",
       "\n",
       "    .dataframe thead tr:last-of-type th {\n",
       "        text-align: right;\n",
       "    }\n",
       "</style>\n",
       "<table border=\"1\" class=\"dataframe\">\n",
       "  <thead>\n",
       "    <tr>\n",
       "      <th></th>\n",
       "      <th></th>\n",
       "      <th colspan=\"2\" halign=\"left\">sum</th>\n",
       "      <th colspan=\"2\" halign=\"left\">mean</th>\n",
       "      <th colspan=\"2\" halign=\"left\">len</th>\n",
       "    </tr>\n",
       "    <tr>\n",
       "      <th></th>\n",
       "      <th>variants</th>\n",
       "      <th>standard</th>\n",
       "      <th>svm_ensemble_v_1_22</th>\n",
       "      <th>standard</th>\n",
       "      <th>svm_ensemble_v_1_22</th>\n",
       "      <th>standard</th>\n",
       "      <th>svm_ensemble_v_1_22</th>\n",
       "    </tr>\n",
       "    <tr>\n",
       "      <th>user_type</th>\n",
       "      <th>group</th>\n",
       "      <th></th>\n",
       "      <th></th>\n",
       "      <th></th>\n",
       "      <th></th>\n",
       "      <th></th>\n",
       "      <th></th>\n",
       "    </tr>\n",
       "  </thead>\n",
       "  <tbody>\n",
       "    <tr>\n",
       "      <th rowspan=\"2\" valign=\"top\">new_user</th>\n",
       "      <th>control</th>\n",
       "      <td>8800</td>\n",
       "      <td>105</td>\n",
       "      <td>0.120894</td>\n",
       "      <td>0.109489</td>\n",
       "      <td>72791</td>\n",
       "      <td>959</td>\n",
       "    </tr>\n",
       "    <tr>\n",
       "      <th>treatment</th>\n",
       "      <td>135</td>\n",
       "      <td>8504</td>\n",
       "      <td>0.134195</td>\n",
       "      <td>0.117326</td>\n",
       "      <td>1006</td>\n",
       "      <td>72482</td>\n",
       "    </tr>\n",
       "    <tr>\n",
       "      <th rowspan=\"2\" valign=\"top\">registered_user</th>\n",
       "      <th>control</th>\n",
       "      <td>8689</td>\n",
       "      <td>129</td>\n",
       "      <td>0.119876</td>\n",
       "      <td>0.133127</td>\n",
       "      <td>72483</td>\n",
       "      <td>969</td>\n",
       "    </tr>\n",
       "    <tr>\n",
       "      <th>treatment</th>\n",
       "      <td>115</td>\n",
       "      <td>8760</td>\n",
       "      <td>0.119917</td>\n",
       "      <td>0.120282</td>\n",
       "      <td>959</td>\n",
       "      <td>72829</td>\n",
       "    </tr>\n",
       "  </tbody>\n",
       "</table>\n",
       "</div>"
      ],
      "text/plain": [
       "                               sum                          mean  \\\n",
       "variants                  standard svm_ensemble_v_1_22  standard   \n",
       "user_type       group                                              \n",
       "new_user        control       8800                 105  0.120894   \n",
       "                treatment      135                8504  0.134195   \n",
       "registered_user control       8689                 129  0.119876   \n",
       "                treatment      115                8760  0.119917   \n",
       "\n",
       "                                                   len                      \n",
       "variants                  svm_ensemble_v_1_22 standard svm_ensemble_v_1_22  \n",
       "user_type       group                                                       \n",
       "new_user        control              0.109489    72791                 959  \n",
       "                treatment            0.117326     1006               72482  \n",
       "registered_user control              0.133127    72483                 969  \n",
       "                treatment            0.120282      959               72829  "
      ]
     },
     "execution_count": 15,
     "metadata": {},
     "output_type": "execute_result"
    }
   ],
   "source": [
    "piv_tab = pd.pivot_table(df, values='converted', index=['user_type', 'group'],\n",
    "                      columns='variants', aggfunc=[np.sum, np.mean, len], observed=True)\n",
    "piv_tab"
   ]
  },
  {
   "cell_type": "code",
   "execution_count": 16,
   "metadata": {},
   "outputs": [
    {
     "data": {
      "text/html": [
       "<div>\n",
       "<style scoped>\n",
       "    .dataframe tbody tr th:only-of-type {\n",
       "        vertical-align: middle;\n",
       "    }\n",
       "\n",
       "    .dataframe tbody tr th {\n",
       "        vertical-align: top;\n",
       "    }\n",
       "\n",
       "    .dataframe thead th {\n",
       "        text-align: right;\n",
       "    }\n",
       "</style>\n",
       "<table border=\"1\" class=\"dataframe\">\n",
       "  <thead>\n",
       "    <tr style=\"text-align: right;\">\n",
       "      <th>variants</th>\n",
       "      <th>standard</th>\n",
       "      <th>svm_ensemble_v_1_22</th>\n",
       "    </tr>\n",
       "    <tr>\n",
       "      <th>group</th>\n",
       "      <th></th>\n",
       "      <th></th>\n",
       "    </tr>\n",
       "  </thead>\n",
       "  <tbody>\n",
       "    <tr>\n",
       "      <th>control</th>\n",
       "      <td>72483</td>\n",
       "      <td>969</td>\n",
       "    </tr>\n",
       "    <tr>\n",
       "      <th>treatment</th>\n",
       "      <td>959</td>\n",
       "      <td>72829</td>\n",
       "    </tr>\n",
       "  </tbody>\n",
       "</table>\n",
       "</div>"
      ],
      "text/plain": [
       "variants   standard  svm_ensemble_v_1_22\n",
       "group                                   \n",
       "control       72483                  969\n",
       "treatment       959                72829"
      ]
     },
     "execution_count": 16,
     "metadata": {},
     "output_type": "execute_result"
    }
   ],
   "source": [
    "pd.crosstab(df[df.user_type == 'registered_user']['group'], df[df.user_type == 'registered_user']['variants'])"
   ]
  },
  {
   "cell_type": "code",
   "execution_count": 17,
   "metadata": {},
   "outputs": [
    {
     "data": {
      "text/plain": [
       "0.11987638480747209"
      ]
     },
     "execution_count": 17,
     "metadata": {},
     "output_type": "execute_result"
    }
   ],
   "source": [
    "cr_ou_control = df[(df.user_type == 'registered_user') & (df.group == 'control') & (df.variants == 'standard')].converted.mean()\n",
    "cr_ou_control"
   ]
  },
  {
   "cell_type": "code",
   "execution_count": 18,
   "metadata": {},
   "outputs": [
    {
     "data": {
      "text/plain": [
       "0.12028175589394334"
      ]
     },
     "execution_count": 18,
     "metadata": {},
     "output_type": "execute_result"
    }
   ],
   "source": [
    "cr_ou_test = df[(df.user_type == 'registered_user') & (df.group == 'treatment') & (df.variants == 'svm_ensemble_v_1_22')].converted.mean()\n",
    "cr_ou_test"
   ]
  },
  {
   "cell_type": "markdown",
   "metadata": {},
   "source": [
    "* We see difference conversation rates control and treatment group small."
   ]
  },
  {
   "cell_type": "code",
   "execution_count": 19,
   "metadata": {},
   "outputs": [
    {
     "name": "stdout",
     "output_type": "stream",
     "text": [
      "4433\n"
     ]
    }
   ],
   "source": [
    "effect_size_old = sms.proportion_effectsize(cr_control, cr_test)    # Calculating effect size based on our expected rates\n",
    "\n",
    "required_n_old = sms.NormalIndPower().solve_power(\n",
    "    effect_size_old, \n",
    "    power=power, \n",
    "    alpha=alpha, \n",
    "    ratio=1\n",
    "    )                                                  # Calculating sample size needed\n",
    "\n",
    "required_n_old = ceil(required_n_old)                          # Rounding up to next whole number                          \n",
    "\n",
    "print(required_n_old)"
   ]
  },
  {
   "cell_type": "markdown",
   "metadata": {},
   "source": [
    "* Our data frame more then need, we try check out hypothesis"
   ]
  },
  {
   "cell_type": "code",
   "execution_count": 20,
   "metadata": {},
   "outputs": [
    {
     "name": "stdout",
     "output_type": "stream",
     "text": [
      "Z-statistic: -0.24\n",
      "p-value: 0.812\n",
      "CI 95% for control group: [0.118, 0.122]\n",
      "CI 95% for treatment group: [0.118, 0.123]\n"
     ]
    }
   ],
   "source": [
    "\n",
    "control_old_user = df[(df.group == 'control') & (df.variants == 'standard') & (df.user_type == 'registered_user')].converted\n",
    "treatment_old_user = df[(df.group == 'treatment') & (df.variants == 'svm_ensemble_v_1_22') & (df.user_type == 'registered_user')].converted\n",
    "\n",
    "n_con = control_old_user.count()\n",
    "n_treat = treatment_old_user.count()\n",
    "successes = [control_old_user.sum(), treatment_old_user.sum()]\n",
    "nobs = [n_con, n_treat]\n",
    "\n",
    "z_stat, pval = proportions_ztest(successes, nobs=nobs)\n",
    "(lower_con, lower_treat), (upper_con, upper_treat) = proportion_confint(successes, nobs=nobs, alpha=alpha)\n",
    "\n",
    "print(f'Z-statistic: {z_stat:.2f}')\n",
    "print(f'p-value: {pval:.3f}')\n",
    "print(f'CI 95% for control group: [{lower_con:.3f}, {upper_con:.3f}]')\n",
    "print(f'CI 95% for treatment group: [{lower_treat:.3f}, {upper_treat:.3f}]')"
   ]
  },
  {
   "cell_type": "markdown",
   "metadata": {},
   "source": [
    "* Since our p-value=0.812 is way above our α=0.05 threshold, we cannot reject the Null hypothesis Hₒ, which means that our new design did not perform significantly different (let alone better) than our old one"
   ]
  },
  {
   "cell_type": "markdown",
   "metadata": {},
   "source": [
    "# 2b. Check hypothesis for new users"
   ]
  },
  {
   "cell_type": "code",
   "execution_count": 21,
   "metadata": {},
   "outputs": [
    {
     "data": {
      "text/html": [
       "<div>\n",
       "<style scoped>\n",
       "    .dataframe tbody tr th:only-of-type {\n",
       "        vertical-align: middle;\n",
       "    }\n",
       "\n",
       "    .dataframe tbody tr th {\n",
       "        vertical-align: top;\n",
       "    }\n",
       "\n",
       "    .dataframe thead th {\n",
       "        text-align: right;\n",
       "    }\n",
       "</style>\n",
       "<table border=\"1\" class=\"dataframe\">\n",
       "  <thead>\n",
       "    <tr style=\"text-align: right;\">\n",
       "      <th>variants</th>\n",
       "      <th>standard</th>\n",
       "      <th>svm_ensemble_v_1_22</th>\n",
       "    </tr>\n",
       "    <tr>\n",
       "      <th>group</th>\n",
       "      <th></th>\n",
       "      <th></th>\n",
       "    </tr>\n",
       "  </thead>\n",
       "  <tbody>\n",
       "    <tr>\n",
       "      <th>control</th>\n",
       "      <td>72791</td>\n",
       "      <td>959</td>\n",
       "    </tr>\n",
       "    <tr>\n",
       "      <th>treatment</th>\n",
       "      <td>1006</td>\n",
       "      <td>72482</td>\n",
       "    </tr>\n",
       "  </tbody>\n",
       "</table>\n",
       "</div>"
      ],
      "text/plain": [
       "variants   standard  svm_ensemble_v_1_22\n",
       "group                                   \n",
       "control       72791                  959\n",
       "treatment      1006                72482"
      ]
     },
     "execution_count": 21,
     "metadata": {},
     "output_type": "execute_result"
    }
   ],
   "source": [
    "pd.crosstab(df[df.user_type == 'new_user']['group'], df[df.user_type == 'new_user']['variants'])"
   ]
  },
  {
   "cell_type": "code",
   "execution_count": 22,
   "metadata": {},
   "outputs": [
    {
     "data": {
      "text/plain": [
       "0.12089406657416439"
      ]
     },
     "execution_count": 22,
     "metadata": {},
     "output_type": "execute_result"
    }
   ],
   "source": [
    "cr_nu_control = df[(df.user_type == 'new_user') & (df.group == 'control') & (df.variants == 'standard')].converted.mean()\n",
    "cr_nu_control"
   ]
  },
  {
   "cell_type": "code",
   "execution_count": 23,
   "metadata": {},
   "outputs": [
    {
     "data": {
      "text/plain": [
       "0.11732568085869595"
      ]
     },
     "execution_count": 23,
     "metadata": {},
     "output_type": "execute_result"
    }
   ],
   "source": [
    "cr_nu_test = df[(df.user_type == 'new_user') & (df.group == 'treatment') & (df.variants == 'svm_ensemble_v_1_22')].converted.mean()\n",
    "cr_nu_test"
   ]
  },
  {
   "cell_type": "markdown",
   "metadata": {},
   "source": [
    "* We see difference conversation rates control and treatment group small."
   ]
  },
  {
   "cell_type": "code",
   "execution_count": 24,
   "metadata": {},
   "outputs": [
    {
     "name": "stdout",
     "output_type": "stream",
     "text": [
      "4433\n"
     ]
    }
   ],
   "source": [
    "effect_size_new = sms.proportion_effectsize(cr_control, cr_test)    # Calculating effect size based on our expected rates\n",
    "\n",
    "required_n_new = sms.NormalIndPower().solve_power(\n",
    "    effect_size_new, \n",
    "    power=power, \n",
    "    alpha=alpha, \n",
    "    ratio=1\n",
    "    )                                                  # Calculating sample size needed\n",
    "\n",
    "required_n_new = ceil(required_n_new)                          # Rounding up to next whole number                          \n",
    "\n",
    "print(required_n_new)"
   ]
  },
  {
   "cell_type": "markdown",
   "metadata": {},
   "source": [
    "* Our data frame more then need, we try check out hypothesis"
   ]
  },
  {
   "cell_type": "code",
   "execution_count": 25,
   "metadata": {},
   "outputs": [
    {
     "name": "stdout",
     "output_type": "stream",
     "text": [
      "Z-statistic: 2.10\n",
      "p-value: 0.036\n",
      "CI 95% for control group: [0.119, 0.123]\n",
      "CI 95% for treatment group: [0.115, 0.120]\n"
     ]
    }
   ],
   "source": [
    "\n",
    "control_new_user = df[(df.group == 'control') & (df.variants == 'standard') & (df.user_type == 'new_user')].converted\n",
    "treatment_new_user = df[(df.group == 'treatment') & (df.variants == 'svm_ensemble_v_1_22') & (df.user_type == 'new_user')].converted\n",
    "\n",
    "n_con = control_new_user.count()\n",
    "n_treat = treatment_new_user.count()\n",
    "successes = [control_new_user.sum(), treatment_new_user.sum()]\n",
    "nobs = [n_con, n_treat]\n",
    "\n",
    "z_stat, pval = proportions_ztest(successes, nobs=nobs)\n",
    "(lower_con, lower_treat), (upper_con, upper_treat) = proportion_confint(successes, nobs=nobs, alpha=alpha)\n",
    "\n",
    "print(f'Z-statistic: {z_stat:.2f}')\n",
    "print(f'p-value: {pval:.3f}')\n",
    "print(f'CI 95% for control group: [{lower_con:.3f}, {upper_con:.3f}]')\n",
    "print(f'CI 95% for treatment group: [{lower_treat:.3f}, {upper_treat:.3f}]')\n"
   ]
  },
  {
   "cell_type": "markdown",
   "metadata": {},
   "source": [
    "* Since our p-value = 0.036 is less than our threshold α = 0.05, we can reject the null hypothesis Hₒ, meaning that our new design was different than our old one for new users."
   ]
  },
  {
   "cell_type": "code",
   "execution_count": null,
   "metadata": {},
   "outputs": [],
   "source": []
  }
 ],
 "metadata": {
  "kernelspec": {
   "display_name": "Python 3",
   "language": "python",
   "name": "python3"
  },
  "language_info": {
   "codemirror_mode": {
    "name": "ipython",
    "version": 3
   },
   "file_extension": ".py",
   "mimetype": "text/x-python",
   "name": "python",
   "nbconvert_exporter": "python",
   "pygments_lexer": "ipython3",
   "version": "3.6.9"
  }
 },
 "nbformat": 4,
 "nbformat_minor": 1
}
