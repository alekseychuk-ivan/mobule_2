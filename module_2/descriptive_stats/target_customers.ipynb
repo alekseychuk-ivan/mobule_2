{
 "cells": [
  {
   "cell_type": "code",
   "execution_count": 1,
   "metadata": {
    "pycharm": {
     "name": "#%%\n"
    }
   },
   "outputs": [],
   "source": [
    "import pandas as pd\n",
    "# pd.options.display.max_columns = 100"
   ]
  },
  {
   "cell_type": "code",
   "execution_count": 2,
   "metadata": {},
   "outputs": [
    {
     "data": {
      "text/html": [
       "<div>\n",
       "<style scoped>\n",
       "    .dataframe tbody tr th:only-of-type {\n",
       "        vertical-align: middle;\n",
       "    }\n",
       "\n",
       "    .dataframe tbody tr th {\n",
       "        vertical-align: top;\n",
       "    }\n",
       "\n",
       "    .dataframe thead th {\n",
       "        text-align: right;\n",
       "    }\n",
       "</style>\n",
       "<table border=\"1\" class=\"dataframe\">\n",
       "  <thead>\n",
       "    <tr style=\"text-align: right;\">\n",
       "      <th></th>\n",
       "      <th>0</th>\n",
       "      <th>1</th>\n",
       "      <th>2</th>\n",
       "      <th>3</th>\n",
       "      <th>4</th>\n",
       "    </tr>\n",
       "  </thead>\n",
       "  <tbody>\n",
       "    <tr>\n",
       "      <th>ID</th>\n",
       "      <td>1030</td>\n",
       "      <td>1029</td>\n",
       "      <td>2002</td>\n",
       "      <td>2031</td>\n",
       "      <td>1049</td>\n",
       "    </tr>\n",
       "    <tr>\n",
       "      <th>Building</th>\n",
       "      <td>1</td>\n",
       "      <td>1</td>\n",
       "      <td>2</td>\n",
       "      <td>2</td>\n",
       "      <td>1</td>\n",
       "    </tr>\n",
       "    <tr>\n",
       "      <th>Year of sale</th>\n",
       "      <td>2005</td>\n",
       "      <td>2005</td>\n",
       "      <td>2007</td>\n",
       "      <td>2007</td>\n",
       "      <td>2004</td>\n",
       "    </tr>\n",
       "    <tr>\n",
       "      <th>Month of sale</th>\n",
       "      <td>11</td>\n",
       "      <td>10</td>\n",
       "      <td>7</td>\n",
       "      <td>12</td>\n",
       "      <td>11</td>\n",
       "    </tr>\n",
       "    <tr>\n",
       "      <th>Type of property</th>\n",
       "      <td>Apartment</td>\n",
       "      <td>Apartment</td>\n",
       "      <td>Apartment</td>\n",
       "      <td>Apartment</td>\n",
       "      <td>Apartment</td>\n",
       "    </tr>\n",
       "    <tr>\n",
       "      <th>Property number</th>\n",
       "      <td>30</td>\n",
       "      <td>29</td>\n",
       "      <td>2</td>\n",
       "      <td>31</td>\n",
       "      <td>49</td>\n",
       "    </tr>\n",
       "    <tr>\n",
       "      <th>Area (ft.)</th>\n",
       "      <td>743.09</td>\n",
       "      <td>756.21</td>\n",
       "      <td>587.28</td>\n",
       "      <td>1604.75</td>\n",
       "      <td>1375.45</td>\n",
       "    </tr>\n",
       "    <tr>\n",
       "      <th>Price</th>\n",
       "      <td>$ 246,172.68</td>\n",
       "      <td>$ 246,331.90</td>\n",
       "      <td>$ 209,280.91</td>\n",
       "      <td>$ 452,667.01</td>\n",
       "      <td>$ 467,083.31</td>\n",
       "    </tr>\n",
       "    <tr>\n",
       "      <th>Status</th>\n",
       "      <td>Sold</td>\n",
       "      <td>Sold</td>\n",
       "      <td>Sold</td>\n",
       "      <td>Sold</td>\n",
       "      <td>Sold</td>\n",
       "    </tr>\n",
       "    <tr>\n",
       "      <th>Customer ID</th>\n",
       "      <td>C0028</td>\n",
       "      <td>C0027</td>\n",
       "      <td>C0112</td>\n",
       "      <td>C0160</td>\n",
       "      <td>C0014</td>\n",
       "    </tr>\n",
       "    <tr>\n",
       "      <th>Entity</th>\n",
       "      <td>Individual</td>\n",
       "      <td>Individual</td>\n",
       "      <td>Individual</td>\n",
       "      <td>Individual</td>\n",
       "      <td>Individual</td>\n",
       "    </tr>\n",
       "    <tr>\n",
       "      <th>Name</th>\n",
       "      <td>Madalyn</td>\n",
       "      <td>Lara</td>\n",
       "      <td>Donavan</td>\n",
       "      <td>Darien</td>\n",
       "      <td>Alessandra</td>\n",
       "    </tr>\n",
       "    <tr>\n",
       "      <th>Surname</th>\n",
       "      <td>Mercer</td>\n",
       "      <td>Carrillo</td>\n",
       "      <td>Flowers</td>\n",
       "      <td>Dorsey</td>\n",
       "      <td>Perry</td>\n",
       "    </tr>\n",
       "    <tr>\n",
       "      <th>Age at time of purchase</th>\n",
       "      <td>19</td>\n",
       "      <td>22</td>\n",
       "      <td>22</td>\n",
       "      <td>22</td>\n",
       "      <td>25</td>\n",
       "    </tr>\n",
       "    <tr>\n",
       "      <th>Age Interval</th>\n",
       "      <td>18-25</td>\n",
       "      <td>18-25</td>\n",
       "      <td>18-25</td>\n",
       "      <td>18-25</td>\n",
       "      <td>18-25</td>\n",
       "    </tr>\n",
       "    <tr>\n",
       "      <th>Y</th>\n",
       "      <td>1986</td>\n",
       "      <td>1983</td>\n",
       "      <td>1985</td>\n",
       "      <td>1985</td>\n",
       "      <td>1979</td>\n",
       "    </tr>\n",
       "    <tr>\n",
       "      <th>M</th>\n",
       "      <td>6</td>\n",
       "      <td>2</td>\n",
       "      <td>12</td>\n",
       "      <td>12</td>\n",
       "      <td>5</td>\n",
       "    </tr>\n",
       "    <tr>\n",
       "      <th>D</th>\n",
       "      <td>21</td>\n",
       "      <td>24</td>\n",
       "      <td>27</td>\n",
       "      <td>27</td>\n",
       "      <td>15</td>\n",
       "    </tr>\n",
       "    <tr>\n",
       "      <th>Gender</th>\n",
       "      <td>F</td>\n",
       "      <td>F</td>\n",
       "      <td>M</td>\n",
       "      <td>M</td>\n",
       "      <td>F</td>\n",
       "    </tr>\n",
       "    <tr>\n",
       "      <th>Country</th>\n",
       "      <td>USA</td>\n",
       "      <td>USA</td>\n",
       "      <td>USA</td>\n",
       "      <td>USA</td>\n",
       "      <td>USA</td>\n",
       "    </tr>\n",
       "    <tr>\n",
       "      <th>State</th>\n",
       "      <td>California</td>\n",
       "      <td>California</td>\n",
       "      <td>California</td>\n",
       "      <td>California</td>\n",
       "      <td>California</td>\n",
       "    </tr>\n",
       "    <tr>\n",
       "      <th>Purpose</th>\n",
       "      <td>Home</td>\n",
       "      <td>Home</td>\n",
       "      <td>Home</td>\n",
       "      <td>Investment</td>\n",
       "      <td>Home</td>\n",
       "    </tr>\n",
       "    <tr>\n",
       "      <th>Deal satisfaction</th>\n",
       "      <td>5</td>\n",
       "      <td>5</td>\n",
       "      <td>1</td>\n",
       "      <td>3</td>\n",
       "      <td>4</td>\n",
       "    </tr>\n",
       "    <tr>\n",
       "      <th>Mortgage</th>\n",
       "      <td>No</td>\n",
       "      <td>No</td>\n",
       "      <td>Yes</td>\n",
       "      <td>Yes</td>\n",
       "      <td>No</td>\n",
       "    </tr>\n",
       "    <tr>\n",
       "      <th>Source</th>\n",
       "      <td>Website</td>\n",
       "      <td>Website</td>\n",
       "      <td>Client</td>\n",
       "      <td>Website</td>\n",
       "      <td>Agency</td>\n",
       "    </tr>\n",
       "  </tbody>\n",
       "</table>\n",
       "</div>"
      ],
      "text/plain": [
       "                                      0               1               2  \\\n",
       "ID                                 1030            1029            2002   \n",
       "Building                              1               1               2   \n",
       "Year of sale                       2005            2005            2007   \n",
       "Month of sale                        11              10               7   \n",
       "Type of property              Apartment       Apartment       Apartment   \n",
       "Property number                      30              29               2   \n",
       "Area (ft.)                       743.09          756.21          587.28   \n",
       "Price                     $ 246,172.68    $ 246,331.90    $ 209,280.91    \n",
       "Status                            Sold            Sold            Sold    \n",
       "Customer ID                       C0028           C0027           C0112   \n",
       "Entity                       Individual      Individual      Individual   \n",
       "Name                            Madalyn            Lara         Donavan   \n",
       "Surname                          Mercer        Carrillo         Flowers   \n",
       "Age at time of purchase              19              22              22   \n",
       "Age Interval                      18-25           18-25           18-25   \n",
       "Y                                  1986            1983            1985   \n",
       "M                                     6               2              12   \n",
       "D                                    21              24              27   \n",
       "Gender                                F               F               M   \n",
       "Country                             USA             USA             USA   \n",
       "State                        California      California      California   \n",
       "Purpose                            Home            Home            Home   \n",
       "Deal satisfaction                     5               5               1   \n",
       "Mortgage                             No              No             Yes   \n",
       "Source                          Website         Website          Client   \n",
       "\n",
       "                                      3               4  \n",
       "ID                                 2031            1049  \n",
       "Building                              2               1  \n",
       "Year of sale                       2007            2004  \n",
       "Month of sale                        12              11  \n",
       "Type of property              Apartment       Apartment  \n",
       "Property number                      31              49  \n",
       "Area (ft.)                      1604.75         1375.45  \n",
       "Price                     $ 452,667.01    $ 467,083.31   \n",
       "Status                            Sold            Sold   \n",
       "Customer ID                       C0160           C0014  \n",
       "Entity                       Individual      Individual  \n",
       "Name                             Darien      Alessandra  \n",
       "Surname                          Dorsey           Perry  \n",
       "Age at time of purchase              22              25  \n",
       "Age Interval                      18-25           18-25  \n",
       "Y                                  1985            1979  \n",
       "M                                    12               5  \n",
       "D                                    27              15  \n",
       "Gender                                M               F  \n",
       "Country                             USA             USA  \n",
       "State                        California      California  \n",
       "Purpose                      Investment            Home  \n",
       "Deal satisfaction                     3               4  \n",
       "Mortgage                            Yes              No  \n",
       "Source                          Website          Agency  "
      ]
     },
     "execution_count": 2,
     "metadata": {},
     "output_type": "execute_result"
    }
   ],
   "source": [
    "# read data frame\n",
    "df = pd.read_csv('clients.csv')\n",
    "df.head().T"
   ]
  },
  {
   "cell_type": "code",
   "execution_count": 3,
   "metadata": {},
   "outputs": [],
   "source": [
    "# rename all columns with space\n",
    "df.rename(columns={\"Year of sale\": \"Year_of_sale\", \"Month of sale\": \"Month_of_sale\", \n",
    "                   'Type of property': 'Type_of_property', 'Number of property': 'Number_of_property',\n",
    "                   'Property number ': 'Property_number', 'Area (ft.)': 'Area_ft', \n",
    "                   'Customer ID': 'Customer_ID', 'Age at time of purchase': 'Age_at_time_of_purchase', \n",
    "                   'Age Interval ': 'Age_Interval', 'Deal satisfaction': 'Deal_satisfaction'\n",
    "                  }, inplace=True)"
   ]
  },
  {
   "cell_type": "code",
   "execution_count": 4,
   "metadata": {},
   "outputs": [
    {
     "name": "stdout",
     "output_type": "stream",
     "text": [
      "<class 'pandas.core.frame.DataFrame'>\n",
      "RangeIndex: 195 entries, 0 to 194\n",
      "Data columns (total 25 columns):\n",
      " #   Column                   Non-Null Count  Dtype  \n",
      "---  ------                   --------------  -----  \n",
      " 0   ID                       195 non-null    int64  \n",
      " 1   Building                 195 non-null    int64  \n",
      " 2   Year_of_sale             195 non-null    int64  \n",
      " 3   Month_of_sale            195 non-null    int64  \n",
      " 4   Type_of_property         195 non-null    object \n",
      " 5   Property number          195 non-null    int64  \n",
      " 6   Area_ft                  195 non-null    float64\n",
      " 7   Price                    195 non-null    object \n",
      " 8   Status                   195 non-null    object \n",
      " 9   Customer_ID              195 non-null    object \n",
      " 10  Entity                   195 non-null    object \n",
      " 11  Name                     195 non-null    object \n",
      " 12  Surname                  195 non-null    object \n",
      " 13  Age_at_time_of_purchase  178 non-null    float64\n",
      " 14  Age_Interval             178 non-null    object \n",
      " 15  Y                        178 non-null    float64\n",
      " 16  M                        178 non-null    float64\n",
      " 17  D                        178 non-null    float64\n",
      " 18  Gender                   178 non-null    object \n",
      " 19  Country                  195 non-null    object \n",
      " 20  State                    181 non-null    object \n",
      " 21  Purpose                  195 non-null    object \n",
      " 22  Deal_satisfaction        195 non-null    int64  \n",
      " 23  Mortgage                 195 non-null    object \n",
      " 24  Source                   195 non-null    object \n",
      "dtypes: float64(5), int64(6), object(14)\n",
      "memory usage: 38.2+ KB\n"
     ]
    }
   ],
   "source": [
    "#read info about data frame\n",
    "df.info()"
   ]
  },
  {
   "cell_type": "code",
   "execution_count": 5,
   "metadata": {},
   "outputs": [
    {
     "data": {
      "text/plain": [
       "array(['Individual', 'Firm'], dtype=object)"
      ]
     },
     "execution_count": 5,
     "metadata": {},
     "output_type": "execute_result"
    }
   ],
   "source": [
    "#unique data from Entity, Country, State, Status, Purpose\n",
    "df.Entity.unique()"
   ]
  },
  {
   "cell_type": "code",
   "execution_count": 6,
   "metadata": {},
   "outputs": [
    {
     "data": {
      "text/plain": [
       "array(['USA', 'UK', 'USA ', 'Belgium', 'Russia', 'Denmark', 'Germany',\n",
       "       'Mexico', 'Canada'], dtype=object)"
      ]
     },
     "execution_count": 6,
     "metadata": {},
     "output_type": "execute_result"
    }
   ],
   "source": [
    "df.Country.unique()"
   ]
  },
  {
   "cell_type": "code",
   "execution_count": 7,
   "metadata": {},
   "outputs": [
    {
     "data": {
      "text/plain": [
       "array(['California', 'Virginia', 'Arizona', 'Oregon', 'Nevada',\n",
       "       'Colorado', 'Utah', nan, 'Kansas', 'Wyoming'], dtype=object)"
      ]
     },
     "execution_count": 7,
     "metadata": {},
     "output_type": "execute_result"
    }
   ],
   "source": [
    "df.State.unique()"
   ]
  },
  {
   "cell_type": "code",
   "execution_count": 8,
   "metadata": {},
   "outputs": [
    {
     "data": {
      "text/plain": [
       "array([' Sold '], dtype=object)"
      ]
     },
     "execution_count": 8,
     "metadata": {},
     "output_type": "execute_result"
    }
   ],
   "source": [
    "df.Status.unique()"
   ]
  },
  {
   "cell_type": "code",
   "execution_count": 9,
   "metadata": {},
   "outputs": [
    {
     "data": {
      "text/plain": [
       "array(['Home', 'Investment'], dtype=object)"
      ]
     },
     "execution_count": 9,
     "metadata": {},
     "output_type": "execute_result"
    }
   ],
   "source": [
    "df.Purpose.unique()"
   ]
  },
  {
   "cell_type": "code",
   "execution_count": 10,
   "metadata": {},
   "outputs": [],
   "source": [
    "#del space in name country\n",
    "df = df.replace(to_replace='USA ', value='USA')"
   ]
  },
  {
   "cell_type": "code",
   "execution_count": 11,
   "metadata": {},
   "outputs": [],
   "source": [
    "# Price change to float\n",
    "df.Price = df.Price.str.slice(start=2)\\\n",
    "                .str.replace(',', '').astype('float')"
   ]
  },
  {
   "cell_type": "code",
   "execution_count": 12,
   "metadata": {},
   "outputs": [
    {
     "data": {
      "text/plain": [
       "USA        177\n",
       "Canada       7\n",
       "Russia       4\n",
       "Belgium      2\n",
       "UK           2\n",
       "Mexico       1\n",
       "Denmark      1\n",
       "Germany      1\n",
       "Name: Country, dtype: int64"
      ]
     },
     "execution_count": 12,
     "metadata": {},
     "output_type": "execute_result"
    }
   ],
   "source": [
    "df.Country.value_counts()"
   ]
  },
  {
   "cell_type": "code",
   "execution_count": 13,
   "metadata": {},
   "outputs": [],
   "source": [
    "# df[['Area_ft', 'Price']].describe()"
   ]
  },
  {
   "cell_type": "code",
   "execution_count": 14,
   "metadata": {},
   "outputs": [
    {
     "data": {
      "text/plain": [
       "'M'"
      ]
     },
     "execution_count": 14,
     "metadata": {},
     "output_type": "execute_result"
    }
   ],
   "source": [
    "# who is our client?\n",
    "# what is gender?\n",
    "gender = df.Gender.value_counts().idxmax()\n",
    "gender"
   ]
  },
  {
   "cell_type": "code",
   "execution_count": 15,
   "metadata": {},
   "outputs": [
    {
     "data": {
      "text/plain": [
       "'36-45'"
      ]
     },
     "execution_count": 15,
     "metadata": {},
     "output_type": "execute_result"
    }
   ],
   "source": [
    "# what is his(her) age interval?\n",
    "age_int = df[df.Gender == gender].Age_Interval.value_counts().idxmax()\n",
    "age_int"
   ]
  },
  {
   "cell_type": "code",
   "execution_count": 16,
   "metadata": {},
   "outputs": [],
   "source": [
    "# type_of_property =  df.Type_of_property.value_counts().idxmax()\n",
    "# type_of_property"
   ]
  },
  {
   "cell_type": "code",
   "execution_count": 17,
   "metadata": {},
   "outputs": [
    {
     "data": {
      "text/plain": [
       "'USA'"
      ]
     },
     "execution_count": 17,
     "metadata": {},
     "output_type": "execute_result"
    }
   ],
   "source": [
    "# Is his(her) from?\n",
    "country = df[(df.Gender == gender) & (df.Age_Interval == age_int)].Country.value_counts().idxmax()\n",
    "country"
   ]
  },
  {
   "cell_type": "code",
   "execution_count": 18,
   "metadata": {},
   "outputs": [
    {
     "data": {
      "text/plain": [
       "'California'"
      ]
     },
     "execution_count": 18,
     "metadata": {},
     "output_type": "execute_result"
    }
   ],
   "source": [
    "# Most popular state where is buy?\n",
    "state = df[(df.Gender == gender) & (df.Age_Interval == age_int)].State.value_counts().idxmax()\n",
    "state"
   ]
  },
  {
   "cell_type": "code",
   "execution_count": 19,
   "metadata": {},
   "outputs": [
    {
     "data": {
      "text/plain": [
       "'Home'"
      ]
     },
     "execution_count": 19,
     "metadata": {},
     "output_type": "execute_result"
    }
   ],
   "source": [
    "#What is (s)he want to buy?\n",
    "purpose = df[(df.Gender == gender) & (df.Age_Interval == age_int)].Purpose.value_counts().idxmax()\n",
    "purpose"
   ]
  },
  {
   "cell_type": "code",
   "execution_count": 20,
   "metadata": {},
   "outputs": [
    {
     "data": {
      "text/plain": [
       "'No'"
      ]
     },
     "execution_count": 20,
     "metadata": {},
     "output_type": "execute_result"
    }
   ],
   "source": [
    "#Does client use mortgage?\n",
    "mortgage = df[(df.Gender == gender) & (df.Age_Interval == age_int)].Mortgage.value_counts().idxmax()\n",
    "mortgage"
   ]
  },
  {
   "cell_type": "code",
   "execution_count": 21,
   "metadata": {},
   "outputs": [
    {
     "data": {
      "text/plain": [
       "'Website'"
      ]
     },
     "execution_count": 21,
     "metadata": {},
     "output_type": "execute_result"
    }
   ],
   "source": [
    "#\n",
    "source = df.Source.value_counts().idxmax()\n",
    "source"
   ]
  },
  {
   "cell_type": "code",
   "execution_count": 22,
   "metadata": {},
   "outputs": [
    {
     "data": {
      "text/plain": [
       "893.78"
      ]
     },
     "execution_count": 22,
     "metadata": {},
     "output_type": "execute_result"
    }
   ],
   "source": [
    "# area mean our client\n",
    "area_mean = round(df[(df.Gender == gender) & (df.Age_Interval == age_int) & (df.Mortgage == mortgage)].Area_ft.mean(), 2)\n",
    "area_mean"
   ]
  },
  {
   "cell_type": "code",
   "execution_count": 23,
   "metadata": {},
   "outputs": [
    {
     "data": {
      "text/plain": [
       "261478.42"
      ]
     },
     "execution_count": 23,
     "metadata": {},
     "output_type": "execute_result"
    }
   ],
   "source": [
    "# price mean our client\n",
    "price_mean = round(df[(df.Gender == gender) & (df.Age_Interval == age_int) & (df.Mortgage == mortgage)].Price.mean(), 2)\n",
    "price_mean"
   ]
  },
  {
   "cell_type": "code",
   "execution_count": 24,
   "metadata": {},
   "outputs": [
    {
     "data": {
      "text/plain": [
       "'California'"
      ]
     },
     "execution_count": 24,
     "metadata": {},
     "output_type": "execute_result"
    }
   ],
   "source": [
    "#most popular state\n",
    "state = df[(df.Gender == gender) & (df.Age_Interval == age_int)].State.value_counts().idxmax()\n",
    "state"
   ]
  },
  {
   "cell_type": "code",
   "execution_count": 25,
   "metadata": {},
   "outputs": [],
   "source": [
    "if gender == 'M':\n",
    "    gender = ['Мужчина', 'гражданин', 'покупающий', 'который']\n",
    "else:\n",
    "    gender = ['Женщина', 'гражданка', 'покупающая', 'которая'] \n",
    "dct = {'Home': 'проживания', 'Investment': 'инвестиций', 'No': 'не ', 'Yes': '',\n",
    "      'USA': 'США', 'UK': 'великобритании', 'Belgium': 'Бельгии', 'Russia': 'России', 'Denmark': 'Дании', \n",
    "       'Germany': 'Германии', 'Mexico': 'Мексики', 'Canada': 'Канады',\n",
    "      'California': 'Калифорния', 'Virginia': 'Вирджиния', 'Arizona': 'Аризона', 'Oregon': 'Орегон', \n",
    "       'Nevada': 'Невада', 'Colorado': 'Колорадо', 'Utah': 'Юта', 'Kansas': 'Канзас', 'Wyoming': 'Вайоминг',\n",
    "      'Website': 'web-сайт', 'Agency': 'агенство', 'Client': 'клиента'}"
   ]
  },
  {
   "cell_type": "code",
   "execution_count": 27,
   "metadata": {},
   "outputs": [
    {
     "name": "stdout",
     "output_type": "stream",
     "text": [
      "Мужчина гражданин США, возрастом 36-45 лет покупающий недвижимость с целью проживания,\n",
      "не используя кредитные средства.\n",
      "Средняя площадь недвижимости 893.78 ft. Cредняя стоимость недвижимости $261478.42.\n",
      "Самое популярный штат для покупки недвижимости Калифорния. Клиент пришел через web-сайт.\n"
     ]
    }
   ],
   "source": [
    "print('{gender[0]} {gender[1]} {pur[0]}, возрастом {age} лет {gender[2]} недвижимость с целью {pur[1]},\\n{pur[2]}используя кредитные средства.'.format(gender=gender, age=age_int, pur=[dct[country], dct[purpose], dct[mortgage]]))\n",
    "print('Средняя площадь недвижимости {square} ft. Cредняя стоимость недвижимости ${price}.'.format(square=area_mean, price=price_mean))\n",
    "print(f'Самое популярный штат для покупки недвижимости {dct[state]}. Клиент пришел через {dct[source]}.')\n",
    "# Мужчина, гражданин США, возрастом 36-45 лет покупающий дом, который чаще всего не использует кредитные средства. \n",
    "# Средняя площадь дома 899.87 ft, а стоимость 269434.56$"
   ]
  },
  {
   "cell_type": "code",
   "execution_count": null,
   "metadata": {},
   "outputs": [],
   "source": []
  },
  {
   "cell_type": "code",
   "execution_count": null,
   "metadata": {},
   "outputs": [],
   "source": []
  }
 ],
 "metadata": {
  "kernelspec": {
   "display_name": "Python 3",
   "language": "python",
   "name": "python3"
  },
  "language_info": {
   "codemirror_mode": {
    "name": "ipython",
    "version": 3
   },
   "file_extension": ".py",
   "mimetype": "text/x-python",
   "name": "python",
   "nbconvert_exporter": "python",
   "pygments_lexer": "ipython3",
   "version": "3.6.9"
  }
 },
 "nbformat": 4,
 "nbformat_minor": 1
}
